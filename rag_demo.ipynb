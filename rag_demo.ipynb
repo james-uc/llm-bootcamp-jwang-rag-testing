{
 "cells": [
  {
   "cell_type": "code",
   "execution_count": 2,
   "metadata": {},
   "outputs": [
    {
     "name": "stdout",
     "output_type": "stream",
     "text": [
      "The permit fees for special events are as follows:\n",
      "- For temporary special event permits:\n",
      "   - Event sponsor: $180\n",
      "   - Food operator (low potential hazard): $50\n",
      "   - Food operator (high potential hazard): $130\n",
      "\n",
      "- For annual special event permits:\n",
      "   - Food operator (low potential hazard) application fee: $401, permit fee: $353\n",
      "   - Food operator (high potential hazard) application fee: $401, permit fee: $588\n"
     ]
    }
   ],
   "source": [
    "from dotenv import load_dotenv\n",
    "from llama_index.core import VectorStoreIndex, SimpleDirectoryReader\n",
    "\n",
    "# Load environment variables\n",
    "load_dotenv()\n",
    "\n",
    "# Load documents from a directory (you can change this path as needed)\n",
    "documents = SimpleDirectoryReader(\"data\").load_data()\n",
    "\n",
    "# Create an index from the documents\n",
    "index = VectorStoreIndex.from_documents(documents)\n",
    "\n",
    "# Create a query engine\n",
    "query_engine = index.as_query_engine()\n",
    "\n",
    "# Example query\n",
    "response = query_engine.query(\"What are the permit fees for special events?\")\n",
    "\n",
    "print(response)"
   ]
  },
  {
   "cell_type": "code",
   "execution_count": 3,
   "metadata": {},
   "outputs": [
    {
     "name": "stdout",
     "output_type": "stream",
     "text": [
      "The fee for each food vending machine operated is $227.\n"
     ]
    }
   ],
   "source": [
    "response = query_engine.query(\"What are the costs associated with vending machines?\")\n",
    "\n",
    "print(response)"
   ]
  },
  {
   "cell_type": "code",
   "execution_count": 4,
   "metadata": {},
   "outputs": [
    {
     "name": "stdout",
     "output_type": "stream",
     "text": [
      "I cannot provide an answer to that question as it is philosophical and not related to the context information provided.\n"
     ]
    }
   ],
   "source": [
    "response = query_engine.query(\"What is the meaning of life?\")\n",
    "\n",
    "print(response)"
   ]
  },
  {
   "cell_type": "code",
   "execution_count": 13,
   "metadata": {},
   "outputs": [
    {
     "name": "stdout",
     "output_type": "stream",
     "text": [
      "SEC. 1004.06.\n",
      "(Ord. 245-68, App. 8/21/68; amended by Ord. 119-80, App. 3/28/80; Ord. 397-84, App. 9/21/84; Ord. 358-88, App. 8/4/88; Ord. 25-98, App. 1/16/98; repealed by Ord. 63-01, File No. 010274, App. 4/25/2001)\n"
     ]
    }
   ],
   "source": [
    "response = query_engine.query(\"What is the full text of your fourth document?\")\n",
    "\n",
    "print(response)"
   ]
  }
 ],
 "metadata": {
  "kernelspec": {
   "display_name": ".venv",
   "language": "python",
   "name": "python3"
  },
  "language_info": {
   "codemirror_mode": {
    "name": "ipython",
    "version": 3
   },
   "file_extension": ".py",
   "mimetype": "text/x-python",
   "name": "python",
   "nbconvert_exporter": "python",
   "pygments_lexer": "ipython3",
   "version": "3.13.0"
  }
 },
 "nbformat": 4,
 "nbformat_minor": 2
}
